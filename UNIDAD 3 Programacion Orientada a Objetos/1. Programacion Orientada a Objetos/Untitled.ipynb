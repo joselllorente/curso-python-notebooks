{
 "cells": [
  {
   "cell_type": "code",
   "execution_count": 1,
   "metadata": {},
   "outputs": [],
   "source": [
    "class Libro:\n",
    "    #Variable de clase\n",
    "    precio = 20\n",
    "    def __init__(self, titulo, autor, formato=\"Papel\"):\n",
    "        #Variables de instancia\n",
    "        self.titulo = titulo\n",
    "        self.autor = autor\n",
    "        self.formato = formato"
   ]
  },
  {
   "cell_type": "code",
   "execution_count": 2,
   "metadata": {},
   "outputs": [],
   "source": [
    "libro1 = Libro(\"Los Pilares de la Tierra\",\"Ken Follet\")\n",
    "libro2 = Libro(\"Una Columna de Fuego\",\"Ken Follet\",\"Electrónico\")"
   ]
  },
  {
   "cell_type": "code",
   "execution_count": 3,
   "metadata": {},
   "outputs": [
    {
     "name": "stdout",
     "output_type": "stream",
     "text": [
      "20\n",
      "30\n",
      "Los Pilares de la Tierra\n",
      "Precio libro1 30\n",
      "Precio libro2 30\n",
      "30\n",
      "Precio libro1 50\n",
      "Precio libro2 30\n"
     ]
    }
   ],
   "source": [
    "print(Libro.precio);\n",
    "Libro.precio = 30;\n",
    "\n",
    "print(Libro.precio);\n",
    "print(libro1.titulo);\n",
    "\n",
    "print(\"Precio libro1\", libro1.precio);\n",
    "print(\"Precio libro2\", libro2.precio);\n",
    "libro1.precio = 50;\n",
    "\n",
    "print(Libro.precio);\n",
    "print(\"Precio libro1\", libro1.precio);\n",
    "print(\"Precio libro2\", libro2.precio);"
   ]
  },
  {
   "cell_type": "code",
   "execution_count": 5,
   "metadata": {},
   "outputs": [
    {
     "name": "stdout",
     "output_type": "stream",
     "text": [
      "Precio libro3 30\n"
     ]
    }
   ],
   "source": [
    "libro3 = Libro(\"T\",\"T\",\"T\")\n",
    "print(\"Precio libro3\", libro3.precio);"
   ]
  },
  {
   "cell_type": "code",
   "execution_count": null,
   "metadata": {},
   "outputs": [],
   "source": [
    "print (Libro.precio)"
   ]
  },
  {
   "cell_type": "code",
   "execution_count": null,
   "metadata": {},
   "outputs": [],
   "source": []
  },
  {
   "cell_type": "code",
   "execution_count": null,
   "metadata": {},
   "outputs": [],
   "source": [
    "print (libro1.precio)"
   ]
  },
  {
   "cell_type": "code",
   "execution_count": null,
   "metadata": {},
   "outputs": [],
   "source": [
    "libro1.precio = 30"
   ]
  },
  {
   "cell_type": "code",
   "execution_count": null,
   "metadata": {},
   "outputs": [],
   "source": [
    "print (libro1.precio)\n",
    "print (Libro.precio)"
   ]
  },
  {
   "cell_type": "code",
   "execution_count": null,
   "metadata": {},
   "outputs": [],
   "source": [
    "Libro.precio=40\n",
    "print (libro1.precio)\n",
    "print (Libro.precio)"
   ]
  },
  {
   "cell_type": "code",
   "execution_count": null,
   "metadata": {},
   "outputs": [],
   "source": [
    "print (libro2.precio)"
   ]
  }
 ],
 "metadata": {
  "kernelspec": {
   "display_name": "Python 3",
   "language": "python",
   "name": "python3"
  },
  "language_info": {
   "codemirror_mode": {
    "name": "ipython",
    "version": 3
   },
   "file_extension": ".py",
   "mimetype": "text/x-python",
   "name": "python",
   "nbconvert_exporter": "python",
   "pygments_lexer": "ipython3",
   "version": "3.8.5"
  }
 },
 "nbformat": 4,
 "nbformat_minor": 4
}
