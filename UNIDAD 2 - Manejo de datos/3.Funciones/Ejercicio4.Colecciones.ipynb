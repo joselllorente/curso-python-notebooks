{
 "cells": [
  {
   "cell_type": "markdown",
   "metadata": {},
   "source": [
    "# Ejercicio 4.Colecciones Colegio"
   ]
  },
  {
   "cell_type": "markdown",
   "metadata": {},
   "source": [
    "Colegio 3 aulas,\n",
    "\n",
    "1. Insertar alumno --> En qué aula quieres meter al alumno (1,2,3) --> DNI, Nombre, Apellidos\n",
    "2. Mostrar alumnos colegio --> Todos los alumnos del colegio por aula.\n",
    "3. Mostrar alumnos aula --> De qué aula quieres mostrar los alumnos (1,2,3)\n",
    "4. Buscar alumno --> Preguntar DNI --> En que aula se encuentra el alumno ese DNI\n",
    "5. Borrar alumno --> Preguntar DNI --> Borrar el alumno con ese DNI\n",
    "6. Salir\n"
   ]
  },
  {
   "cell_type": "markdown",
   "metadata": {},
   "source": [
    "## Funciones del ejercicio"
   ]
  },
  {
   "cell_type": "code",
   "execution_count": 1,
   "metadata": {},
   "outputs": [],
   "source": [
    "#Funcion que pide datos al usuario y devuelve el tipo de dato que se indique (por defecto str)\n",
    "def pide_datos(texto , tipo_a_devolver=\"str\" ):\n",
    "    #Pedimos información al usuario\n",
    "    valor_introducido = input (texto)\n",
    "    if tipo_a_devolver==\"str\":\n",
    "        return valor_introducido\n",
    "    elif tipo_a_devolver==\"int\":\n",
    "        if(valor_introducido.isdigit()):\n",
    "            return int(valor_introducido)\n",
    "        else:\n",
    "            print(\"Valor incorrecto, vuelve a intentarlo\")\n",
    "            return pide_datos(texto,tipo_a_devolver)\n",
    "    "
   ]
  },
  {
   "cell_type": "code",
   "execution_count": 2,
   "metadata": {},
   "outputs": [],
   "source": [
    "#Creamos el colegio formado por varias aulas\n",
    "colegio = { \"Aula1\":{} , \"Aula2\": {} , \"Aula3\":{} }"
   ]
  },
  {
   "cell_type": "code",
   "execution_count": 3,
   "metadata": {},
   "outputs": [],
   "source": [
    "#Funcion para pintar un menu, muestra menu por defecto en caso de que no se pase nada\n",
    "def pinta_menu (menu=None):\n",
    "    if (menu==None):\n",
    "        menu = \"\\n1.Insertar alumno\\n2.Mostrar alumnos colegio\\n3.Mostrar alumnos aula\\n4.Buscar alumno\\n5.Borrar alumno\\n6.Salir\\n\\n Selecciona una opción\"\n",
    "\n",
    "    return pide_datos(menu , \"int\")"
   ]
  },
  {
   "cell_type": "code",
   "execution_count": 4,
   "metadata": {},
   "outputs": [],
   "source": [
    "#Funcion para insertar los datos de nuevos alumnos en el colegio\n",
    "def insertar_alumno():\n",
    "    #Solicitamos el aula\n",
    "    aula = pide_aula ()\n",
    "    print(aula)\n",
    "    #Solicitamos datos del alumno\n",
    "    alumno = pedir_datos_alumno()\n",
    "    #Metemos al alumno dentro del aula del colegio\n",
    "    colegio.get(aula).update(alumno)\n",
    "    \n",
    "    "
   ]
  },
  {
   "cell_type": "code",
   "execution_count": 5,
   "metadata": {},
   "outputs": [],
   "source": [
    "#Creamos un diccionario con los datos solicitados del alumno \n",
    "def pedir_datos_alumno():\n",
    "    \n",
    "    dni = pide_datos(\"Introduce el dni del alumno\")\n",
    "    nombre = pide_datos(\"Introduce el nombre del alumno\")\n",
    "    apellidos = pide_datos(\"Introduce los apellidos del alumno\")\n",
    "    \n",
    "    alumno = {dni:[nombre,apellidos]}\n",
    "    \n",
    "    return alumno"
   ]
  },
  {
   "cell_type": "code",
   "execution_count": 13,
   "metadata": {},
   "outputs": [],
   "source": [
    "#Funcion para pedir el aula\n",
    "def pide_aula ():\n",
    "    aulas_dict = colegio.keys()\n",
    "    aula = pide_datos(\"Selecciona el aula (\"+str(list(aulas_dict))+\")\")\n",
    "   \n",
    "    if (not aula in colegio):\n",
    "        #Aula incorrecta volvemos a llamar al método para que lo vuelva a introducir\n",
    "        print(\"Aula seleccionada no existe\")\n",
    "        pide_aula()\n",
    "    else:\n",
    "        return aula"
   ]
  },
  {
   "cell_type": "code",
   "execution_count": 12,
   "metadata": {},
   "outputs": [],
   "source": [
    "#Funcion para mostrar los alumnos del colegio o por aula en el caso de que lo indiquen\n",
    "def mostrar_alumnos (aula_param=None):\n",
    "    #Recorremos las aulas del colegio\n",
    "    for aula, alumnos in colegio.items():\n",
    "        if aula_param==None or aula_param==aula:\n",
    "            print(\"Alumnos del aula \",aula)\n",
    "            for dni, datos_alumno in alumnos.items():\n",
    "                print(\"\\t dni: {}, nombre: {}, apellidos: {}\".format(dni,datos_alumno[0],datos_alumno[1]))\n",
    "            #Solo en el caso que me pasen el aula no tengo que seguir recorriendo todas las aulas\n",
    "            if not aula_param==None:\n",
    "                return"
   ]
  },
  {
   "cell_type": "code",
   "execution_count": 24,
   "metadata": {},
   "outputs": [],
   "source": [
    "def buscar_alumno(dni):\n",
    "    aula = buscar_aula_alumno(dni)\n",
    "    mensaje = \"no está en el colegio\" if aula==None else \"está en el aula \" + aula\n",
    "    print(\"El alumno \"+ mensaje)"
   ]
  },
  {
   "cell_type": "code",
   "execution_count": 30,
   "metadata": {},
   "outputs": [],
   "source": [
    "#Funcion para borrar un alumno del colegio a partir de su dni\n",
    "def borrar_alumno(dni):\n",
    "    aula = buscar_aula_alumno(dni)\n",
    "    if aula == None:\n",
    "        print(\"El alumno no está en el colegio\")\n",
    "    else:\n",
    "        diccionario_alumnos = colegio.get(aula)\n",
    "        del diccionario_alumnos[dni]\n",
    "        print(\"Alumno con dni {} eliminado del aula {}\".format(dni, aula))\n",
    "        "
   ]
  },
  {
   "cell_type": "code",
   "execution_count": 15,
   "metadata": {},
   "outputs": [],
   "source": [
    "#Funcion para buscar el aula donde se encuentra un alumno a partir de su dni\n",
    "def buscar_aula_alumno (dni):\n",
    "    #Recorremos las aulas del colegio\n",
    "    for aula, alumnos in colegio.items():\n",
    "        if (dni in alumnos):\n",
    "            return aula\n",
    "\n",
    "    return None"
   ]
  },
  {
   "cell_type": "code",
   "execution_count": 31,
   "metadata": {},
   "outputs": [
    {
     "name": "stdin",
     "output_type": "stream",
     "text": [
      "\n",
      "1.Insertar alumno\n",
      "2.Mostrar alumnos colegio\n",
      "3.Mostrar alumnos aula\n",
      "4.Buscar alumno\n",
      "5.Borrar alumno\n",
      "6.Salir\n",
      "\n",
      " Selecciona una opción 2\n"
     ]
    },
    {
     "name": "stdout",
     "output_type": "stream",
     "text": [
      "Alumnos del aula  Aula1\n",
      "\t dni: 1111A, nombre: N1, apellidos: A1\n",
      "Alumnos del aula  Aula2\n",
      "\t dni: 2222B, nombre: Nombre2, apellidos: Apellidos2\n",
      "\t dni: 4444D, nombre: Nombre4, apellidos: Apellidos4\n",
      "Alumnos del aula  Aula3\n",
      "\t dni: 3333C, nombre: Nombre 3, apellidos: Apellidos3\n"
     ]
    },
    {
     "name": "stdin",
     "output_type": "stream",
     "text": [
      "\n",
      "1.Insertar alumno\n",
      "2.Mostrar alumnos colegio\n",
      "3.Mostrar alumnos aula\n",
      "4.Buscar alumno\n",
      "5.Borrar alumno\n",
      "6.Salir\n",
      "\n",
      " Selecciona una opción 5\n",
      "Escribe el dni del alumno a borrar 4444D\n"
     ]
    },
    {
     "name": "stdout",
     "output_type": "stream",
     "text": [
      "Alumno con dni 4444D eliminado del aula Aula2\n"
     ]
    },
    {
     "name": "stdin",
     "output_type": "stream",
     "text": [
      "\n",
      "1.Insertar alumno\n",
      "2.Mostrar alumnos colegio\n",
      "3.Mostrar alumnos aula\n",
      "4.Buscar alumno\n",
      "5.Borrar alumno\n",
      "6.Salir\n",
      "\n",
      " Selecciona una opción 2\n"
     ]
    },
    {
     "name": "stdout",
     "output_type": "stream",
     "text": [
      "Alumnos del aula  Aula1\n",
      "\t dni: 1111A, nombre: N1, apellidos: A1\n",
      "Alumnos del aula  Aula2\n",
      "\t dni: 2222B, nombre: Nombre2, apellidos: Apellidos2\n",
      "Alumnos del aula  Aula3\n",
      "\t dni: 3333C, nombre: Nombre 3, apellidos: Apellidos3\n"
     ]
    },
    {
     "name": "stdin",
     "output_type": "stream",
     "text": [
      "\n",
      "1.Insertar alumno\n",
      "2.Mostrar alumnos colegio\n",
      "3.Mostrar alumnos aula\n",
      "4.Buscar alumno\n",
      "5.Borrar alumno\n",
      "6.Salir\n",
      "\n",
      " Selecciona una opción 3\n",
      "Selecciona el aula (['Aula1', 'Aula2', 'Aula3']) Aula2\n"
     ]
    },
    {
     "name": "stdout",
     "output_type": "stream",
     "text": [
      "Alumnos del aula  Aula2\n",
      "\t dni: 2222B, nombre: Nombre2, apellidos: Apellidos2\n"
     ]
    },
    {
     "name": "stdin",
     "output_type": "stream",
     "text": [
      "\n",
      "1.Insertar alumno\n",
      "2.Mostrar alumnos colegio\n",
      "3.Mostrar alumnos aula\n",
      "4.Buscar alumno\n",
      "5.Borrar alumno\n",
      "6.Salir\n",
      "\n",
      " Selecciona una opción 6\n"
     ]
    },
    {
     "name": "stdout",
     "output_type": "stream",
     "text": [
      "Adios\n"
     ]
    }
   ],
   "source": [
    "opcion = 0\n",
    "opcion_salir = False\n",
    "\n",
    "while(not opcion_salir):\n",
    "    #Pintamos el menu y pedimos la opcion\n",
    "    opcion = pinta_menu()\n",
    "    \n",
    "    #Controlamos las distintas opciones\n",
    "    if (opcion==1):\n",
    "        insertar_alumno()\n",
    "    elif (opcion==2):\n",
    "        mostrar_alumnos()\n",
    "    elif (opcion==3):\n",
    "        mostrar_alumnos(pide_aula())\n",
    "    elif (opcion==4):\n",
    "        buscar_alumno(pide_datos(\"Escribe el dni del alumno a buscar\"))\n",
    "    elif (opcion==5):\n",
    "        borrar_alumno(pide_datos(\"Escribe el dni del alumno a borrar\"))\n",
    "    elif (opcion==6):\n",
    "        print(\"Adios\")\n",
    "        opcion_salir=True\n",
    "    \n"
   ]
  },
  {
   "cell_type": "code",
   "execution_count": null,
   "metadata": {},
   "outputs": [],
   "source": []
  }
 ],
 "metadata": {
  "kernelspec": {
   "display_name": "Python 3",
   "language": "python",
   "name": "python3"
  },
  "language_info": {
   "codemirror_mode": {
    "name": "ipython",
    "version": 3
   },
   "file_extension": ".py",
   "mimetype": "text/x-python",
   "name": "python",
   "nbconvert_exporter": "python",
   "pygments_lexer": "ipython3",
   "version": "3.8.5"
  }
 },
 "nbformat": 4,
 "nbformat_minor": 4
}
