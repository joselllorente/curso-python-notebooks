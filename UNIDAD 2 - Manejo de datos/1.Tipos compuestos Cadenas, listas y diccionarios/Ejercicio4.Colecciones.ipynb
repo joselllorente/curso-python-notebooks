{
 "cells": [
  {
   "cell_type": "markdown",
   "metadata": {},
   "source": [
    "# Ejercicio 4.Colecciones Colegio"
   ]
  },
  {
   "cell_type": "markdown",
   "metadata": {},
   "source": [
    "Colegio 3 aulas,\n",
    "\n",
    "1. Insertar alumno --> En qué aula quieres meter al alumno (1,2,3) --> DNI, Nombre, Apellidos\n",
    "2. Mostrar alumnos colegio --> Todos los alumnos del colegio por aula.\n",
    "3. Mostrar alumnos aula --> De qué aula quieres mostrar los alumnos (1,2,3)\n",
    "4. Buscar alumno --> Preguntar DNI --> En que aula se encuentra el alumno ese DNI\n",
    "5. Borrar alumno --> Preguntar DNI --> Borrar el alumno con ese DNI\n",
    "6. Salir\n"
   ]
  }
 ],
 "metadata": {
  "kernelspec": {
   "display_name": "Python 3",
   "language": "python",
   "name": "python3"
  },
  "language_info": {
   "codemirror_mode": {
    "name": "ipython",
    "version": 3
   },
   "file_extension": ".py",
   "mimetype": "text/x-python",
   "name": "python",
   "nbconvert_exporter": "python",
   "pygments_lexer": "ipython3",
   "version": "3.8.5"
  }
 },
 "nbformat": 4,
 "nbformat_minor": 4
}
