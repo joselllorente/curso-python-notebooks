{
 "cells": [
  {
   "cell_type": "markdown",
   "metadata": {},
   "source": [
    "## Ejercicio5. Funciones Lambda"
   ]
  },
  {
   "cell_type": "markdown",
   "metadata": {},
   "source": [
    "A partir del siguiente listado de emails:\n",
    "lista_emails = [\"asdasdas.es\",\"asdas asdsdsa@sda.e\",\"asdasd@asdas@asdsad.es\", \"asdad@a.es\", \"a sgsdfsd@a.esfa.sfasdf\", \"asdas.dasd@as.dsfd.as.es \"]\n",
    "- obtener, los nombres de usuario de aquellos emails que sean validos (valido: 1@, no tiene espacios en blanco, despues de la @ hay por lo menos 1 punto)\n",
    "- indicar el número de emails validos que hay dentro del listado (hacerlo usando funcion reduce)\n"
   ]
  },
  {
   "cell_type": "code",
   "execution_count": 18,
   "metadata": {},
   "outputs": [
    {
     "name": "stdout",
     "output_type": "stream",
     "text": [
      "Listado de usuarios validos: ['asdasdasdas', 'asdas.dasd']\n",
      "2\n"
     ]
    }
   ],
   "source": [
    "lista_emails = [\"asdasdas.es\",\"asdas asdsdsa@sda.e\",\"asdasdasdas@asdsad.es\", \"asd ad@a.es\", \"as gsdfsd@a.esfa.sfasdf\", \"asdas.dasd@as.dsfd.as.es \"]\n",
    "emails_filtro_arroba = list(filter( lambda email : email.count(\"@\") == 1  , lista_emails ))\n",
    "emails_filtro_espacio = list(filter( lambda email : not \" \" in email.strip()  , emails_filtro_arroba ))\n",
    "emails_filtro_punto = list(filter( lambda email : \".\" in email.split(\"@\")[1] , emails_filtro_espacio ))\n",
    "usuarios = list(map( lambda email :  email.split(\"@\")[0] , emails_filtro_punto ))\n",
    "\n",
    "print(\"Listado de usuarios validos: {}\".format(usuarios))\n",
    "\n",
    "from functools import reduce\n",
    "print(str(reduce( lambda u1,u2 : u1 + 1 , usuarios, 0)))\n",
    "\n",
    "#emails_filtro = list(filter( lambda email : email.count(\"@\") == 1 and not \" \" in email and email.split(\"@\")[1].contains(\".\") , lista_emails ))\n",
    "#numero_emails_validos = reduce(lambda a,b: a+b,validacion_emails).count('@')\n",
    "#numero_emails_validos\n"
   ]
  }
 ],
 "metadata": {
  "kernelspec": {
   "display_name": "Python 3",
   "language": "python",
   "name": "python3"
  },
  "language_info": {
   "codemirror_mode": {
    "name": "ipython",
    "version": 3
   },
   "file_extension": ".py",
   "mimetype": "text/x-python",
   "name": "python",
   "nbconvert_exporter": "python",
   "pygments_lexer": "ipython3",
   "version": "3.8.5"
  }
 },
 "nbformat": 4,
 "nbformat_minor": 4
}
