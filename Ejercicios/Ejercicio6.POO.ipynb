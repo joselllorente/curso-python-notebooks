{
 "cells": [
  {
   "cell_type": "markdown",
   "metadata": {},
   "source": [
    "# Ejercicio 6. Programacion Orientada Objetos"
   ]
  },
  {
   "cell_type": "markdown",
   "metadata": {},
   "source": [
    "**Crear la clase Alumno**  \n",
    "-nombre  \n",
    "-apellidos  \n",
    "-dni  \n",
    "-notas: diccionario <K:asignatura, V:nota>  \n",
    "estudiar() --> el alumno \"nombre\" esta estudiando \"asignatura obtenida de manera aleatoria del diccionario\"  \n",
    "    \n",
    "**Funcionalidad**    \n",
    "3 alumnos --> lista -->  \n",
    "    +Poner a estudiar a cada uno de los alumnos de la lista  \n",
    "    +Nota media de cada alumno --> El alumno <nombre> tiene una nota media de ...  \n",
    "    +Nota media de todos los alumnos --> La nota media de todos los alumnos es ...\n",
    "   \n",
    "Tradicional y usando funciones lambda\n"
   ]
  },
  {
   "cell_type": "code",
   "execution_count": 41,
   "metadata": {},
   "outputs": [],
   "source": [
    "import random\n",
    "\n",
    "class Alumno:\n",
    "    def __init__(self, nombre, apellidos, dni, notas={}):\n",
    "        self.nombre = nombre\n",
    "        self.apellidos = apellidos\n",
    "        self.dni = dni\n",
    "        self.notas = notas\n",
    "    \n",
    "    def estudiar(self):\n",
    "        mensaje = \"El alumno {} está estudiando la asignatura de {}\".format(self.nombre, random.choice(list(self.notas.keys())) )\n",
    "        print(mensaje)\n",
    "        #list(self.notas.keys())[random.randonint(0, len(self.notas)-1 ) ]\n",
    "        return mensaje\n",
    "    \n",
    "    def calcular_media(self):\n",
    "        return sum(list(self.notas.values()))/len(self.notas.values())\n",
    "    "
   ]
  },
  {
   "cell_type": "code",
   "execution_count": 42,
   "metadata": {},
   "outputs": [],
   "source": [
    "notas_asignatura_alumno1 = { \"Matemáticas\":9.5 , \"Historia\":6, \"Física\":8 }\n",
    "notas_asignatura_alumno2 = { \"Matemáticas\":5.5 , \"Historia\":7, \"Física\":2 }\n",
    "notas_asignatura_alumno3 = { \"Matemáticas\":4 , \"Historia\":3, \"Física\":3 }\n",
    "\n",
    "alumno1 = Alumno(\"Alumno1\",\"Apellidos1\",\"1111A\")\n",
    "alumno2 = Alumno(\"Alumno2\",\"Apellidos2\",\"2222B\")\n",
    "alumno3 = Alumno(\"Alumno3\",\"Apellidos3\",\"3333C\")\n",
    "\n",
    "alumno1.notas = notas_asignatura_alumno1\n",
    "alumno2.notas = notas_asignatura_alumno2\n",
    "alumno3.notas = notas_asignatura_alumno3\n",
    "\n",
    "lista_alumnos = [alumno1, alumno2, alumno3]"
   ]
  },
  {
   "cell_type": "markdown",
   "metadata": {},
   "source": [
    "### Ejercicio hecho de manera tradicional"
   ]
  },
  {
   "cell_type": "code",
   "execution_count": null,
   "metadata": {},
   "outputs": [],
   "source": [
    "print(\"======================================================\")\n",
    "sum_medias = 0\n",
    "for alumno in lista_alumnos:\n",
    "    alumno.estudiar()\n",
    "    media = sum(list(alumno.notas.values()))/len(alumno.notas.values())\n",
    "    #print(\"La nota media de {} es {}\".format(alumno.nombre,media))\n",
    "    print(\"La nota media de \" + alumno.nombre + \" es \" + \"{:.1f}\".format(media))\n",
    "    sum_medias+= media\n",
    "\n",
    "print(\"======================================================\")\n",
    "print(\"La media de todos los alumnos es {}\".format(sum_medias/len(lista_alumnos)))"
   ]
  },
  {
   "cell_type": "markdown",
   "metadata": {},
   "source": [
    "### Ejercicio hecho con funciones lambda"
   ]
  },
  {
   "cell_type": "code",
   "execution_count": 38,
   "metadata": {},
   "outputs": [
    {
     "name": "stdout",
     "output_type": "stream",
     "text": [
      "El alumno Alumno1 está estudiando la asignatura de Física\n",
      "El alumno Alumno2 está estudiando la asignatura de Matemáticas\n",
      "El alumno Alumno3 está estudiando la asignatura de Matemáticas\n"
     ]
    }
   ],
   "source": [
    "result=list(map( lambda alumno : alumno.estudiar() , lista_alumnos ))"
   ]
  },
  {
   "cell_type": "code",
   "execution_count": 44,
   "metadata": {},
   "outputs": [
    {
     "name": "stdout",
     "output_type": "stream",
     "text": [
      "[7.833333333333333, 4.833333333333333, 3.3333333333333335]\n"
     ]
    }
   ],
   "source": [
    "medias_alumnos =list(map( lambda alumno : alumno.calcular_media() , lista_alumnos ))\n",
    "print(medias_alumnos)"
   ]
  },
  {
   "cell_type": "code",
   "execution_count": 47,
   "metadata": {},
   "outputs": [
    {
     "name": "stdout",
     "output_type": "stream",
     "text": [
      "La nota media de Alumno1 es 7.833333333333333\n",
      "La nota media de Alumno2 es 4.833333333333333\n",
      "La nota media de Alumno3 es 3.3333333333333335\n"
     ]
    }
   ],
   "source": [
    "from functools import reduce\n",
    "for alumno in lista_alumnos:\n",
    "    print('La nota media de {} es {}'.format(alumno.nombre,reduce(lambda nota1,nota2:nota1+nota2 , list(alumno.notas.values()))/(len(list(alumno.notas.values())))))\n"
   ]
  },
  {
   "cell_type": "code",
   "execution_count": null,
   "metadata": {},
   "outputs": [],
   "source": [
    "\n",
    "import random\n",
    "\n",
    "for i in range(3):\n",
    "    print(\"Valor de i \",i)\n",
    "    lista_alumnos[i].notas[\"Matemáticas\"] =  random.randint(1,10)\n",
    "    lista_alumnos[i].notas[\"Historia\"] = random.randint(1,10)\n",
    "    lista_alumnos[i].notas[\"Física\"] = random.randint(1,10)\n",
    "    break;\n",
    "    \n",
    "print(\"================================\")\n",
    "print(lista_alumnos[0].notas)\n",
    "print(lista_alumnos[1].notas)\n",
    "print(lista_alumnos[2].notas)\n",
    "    \n",
    "print(\"================================\")\n",
    "for alumno in lista_alumnos:\n",
    "    print(alumno.notas)\n"
   ]
  },
  {
   "cell_type": "markdown",
   "metadata": {},
   "source": [
    "#### Esta parte tiene un problema al modificar directamente los datos al diccionario ya que es compartido por todos los alumnos"
   ]
  },
  {
   "cell_type": "code",
   "execution_count": 12,
   "metadata": {},
   "outputs": [
    {
     "name": "stdout",
     "output_type": "stream",
     "text": [
      "Alumno1 1154783179632\n",
      "Notas Alumno1 1154782385152\n",
      "Alumno2 1154783179536\n",
      "Notas Alumno2 1154782385152\n",
      "Alumno3 1154782450016\n",
      "Notas Alumno3 1154782385152\n",
      "======================================================\n",
      "{'Lengua': 7, 'Matemáticas': 7, 'Física': 5}\n",
      "======================================================\n",
      "{'Lengua': 4, 'Matemáticas': 7, 'Física': 5}\n",
      "{'Lengua': 4, 'Matemáticas': 7, 'Física': 5}\n",
      "======================================================\n",
      "{'Lengua': 3, 'Matemáticas': 7, 'Física': 5}\n",
      "{'Lengua': 3, 'Matemáticas': 7, 'Física': 5}\n",
      "{'Lengua': 3, 'Matemáticas': 7, 'Física': 5}\n",
      "Alumno1 1154783179632\n",
      "Notas Alumno1 1154782385152\n",
      "Alumno2 1154783179536\n",
      "Notas Alumno2 1154782385152\n",
      "Alumno3 1154782450016\n",
      "Notas Alumno3 1154782385152\n",
      "======================================================\n",
      "{'Lengua': 3, 'Matemáticas': 5, 'Física': 5}\n",
      "======================================================\n",
      "{'Lengua': 3, 'Matemáticas': 6, 'Física': 5}\n",
      "{'Lengua': 3, 'Matemáticas': 6, 'Física': 5}\n",
      "======================================================\n",
      "{'Lengua': 3, 'Matemáticas': 7, 'Física': 5}\n",
      "{'Lengua': 3, 'Matemáticas': 7, 'Física': 5}\n",
      "{'Lengua': 3, 'Matemáticas': 7, 'Física': 5}\n",
      "Alumno1 1154783179632\n",
      "Notas Alumno1 1154782385152\n",
      "Alumno2 1154783179536\n",
      "Notas Alumno2 1154782385152\n",
      "Alumno3 1154782450016\n",
      "Notas Alumno3 1154782385152\n",
      "======================================================\n",
      "{'Lengua': 3, 'Matemáticas': 7, 'Física': 6}\n",
      "======================================================\n",
      "{'Lengua': 3, 'Matemáticas': 7, 'Física': 8}\n",
      "{'Lengua': 3, 'Matemáticas': 7, 'Física': 8}\n",
      "======================================================\n",
      "{'Lengua': 3, 'Matemáticas': 7, 'Física': 5}\n",
      "{'Lengua': 3, 'Matemáticas': 7, 'Física': 5}\n",
      "{'Lengua': 3, 'Matemáticas': 7, 'Física': 5}\n",
      "Alumno1 1154783179632\n",
      "Notas Alumno1 1154782385152\n",
      "Alumno2 1154783179536\n",
      "Notas Alumno2 1154782385152\n",
      "Alumno3 1154782450016\n",
      "Notas Alumno3 1154782385152\n"
     ]
    }
   ],
   "source": [
    "# Variables test\n",
    "asignaturas = [\"Lengua\", \"Matemáticas\", \"Física\"]\n",
    "notas1 = [7,5,6]\n",
    "notas2 = [4,6,8]\n",
    "notas3 = [3,7,5]\n",
    "\n",
    "# Variables\n",
    "alumno1 = Alumno(\"Mario\", \"Perez\", \"123A\")\n",
    "alumno2 = Alumno(\"Beatriz\", \"Lopez\", \"456B\")\n",
    "alumno3 = Alumno(\"Marta\", \"Garcia\", \"789C\")\n",
    "\n",
    "print(\"Alumno1\",id(alumno1))\n",
    "print(\"Notas Alumno1\",id(alumno1.notas))\n",
    "print(\"Alumno2\",id(alumno2))\n",
    "print(\"Notas Alumno2\",id(alumno2.notas))\n",
    "print(\"Alumno3\",id(alumno3))\n",
    "print(\"Notas Alumno3\",id(alumno3.notas))\n",
    "\n",
    "for index, asignatura in enumerate(asignaturas):\n",
    "    alumno1.notas[asignatura] = notas1[index]\n",
    "    print(\"======================================================\")\n",
    "    print(alumno1.notas)\n",
    "    alumno2.notas[asignatura] = notas2[index]\n",
    "    print(\"======================================================\")\n",
    "    print(alumno1.notas)\n",
    "    print(alumno2.notas)\n",
    "    alumno3.notas[asignatura] = notas3[index]\n",
    "    print(\"======================================================\")\n",
    "    print(alumno1.notas)\n",
    "    print(alumno2.notas)\n",
    "    print(alumno3.notas)\n",
    "\n",
    "    print(\"Alumno1\",id(alumno1))\n",
    "    print(\"Notas Alumno1\",id(alumno1.notas))\n",
    "    print(\"Alumno2\",id(alumno2))\n",
    "    print(\"Notas Alumno2\",id(alumno2.notas))\n",
    "    print(\"Alumno3\",id(alumno3))\n",
    "    print(\"Notas Alumno3\",id(alumno3.notas))\n",
    "\n"
   ]
  }
 ],
 "metadata": {
  "kernelspec": {
   "display_name": "Python 3",
   "language": "python",
   "name": "python3"
  },
  "language_info": {
   "codemirror_mode": {
    "name": "ipython",
    "version": 3
   },
   "file_extension": ".py",
   "mimetype": "text/x-python",
   "name": "python",
   "nbconvert_exporter": "python",
   "pygments_lexer": "ipython3",
   "version": "3.8.5"
  }
 },
 "nbformat": 4,
 "nbformat_minor": 4
}
