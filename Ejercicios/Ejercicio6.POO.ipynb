{
 "cells": [
  {
   "cell_type": "markdown",
   "metadata": {},
   "source": [
    "# Ejercicio 6. Programacion Orientada Objetos"
   ]
  },
  {
   "cell_type": "markdown",
   "metadata": {},
   "source": [
    "**Crear la clase Alumno**  \n",
    "-nombre  \n",
    "-apellidos  \n",
    "-dni  \n",
    "-notas: diccionario <K:asignatura, V:nota>  \n",
    "estudiar() --> el alumno \"nombre\" esta estudiando \"asignatura obtenida de manera aleatoria del diccionario\"  \n",
    "    \n",
    "**Funcionalidad**    \n",
    "3 alumnos --> lista -->  \n",
    "    +Nota media de cada alumno --> El alumno <nombre> tiene una nota media de ...  \n",
    "    +Nota media de todos los alumnos --> La nota media de todos los alumnos es ...\n",
    "   \n",
    "Tradicional y usando funciones lambda\n"
   ]
  },
  {
   "cell_type": "code",
   "execution_count": 2,
   "metadata": {},
   "outputs": [],
   "source": [
    "class Alumno:\n",
    "    def __init__(self, nombre, apellidos, dni, notas={}):\n",
    "        self.nombre = nombre\n",
    "        self.apellidos = apellidos\n",
    "        self.dni = dni\n",
    "        self.notas = notas\n",
    "    \n",
    "    def estudiar(self):\n",
    "        print(\"El alumno {} está estudiando la asignatura de {}\".format(self.nombre,\"Matemáticas\"))\n",
    "        \n",
    "    "
   ]
  },
  {
   "cell_type": "code",
   "execution_count": 8,
   "metadata": {},
   "outputs": [
    {
     "name": "stdout",
     "output_type": "stream",
     "text": [
      "======================================================\n",
      "{'Matemáticas': 1, 'Historia': 6, 'Física': 6}\n",
      "{'Matemáticas': 2, 'Historia': 9, 'Física': 6}\n",
      "{'Matemáticas': 5, 'Historia': 6, 'Física': 4}\n"
     ]
    }
   ],
   "source": [
    "notas_asignatura_alumno1 = { \"Matemáticas\":9.5 , \"Historia\":6, \"Física\":8 }\n",
    "notas_asignatura_alumno2 = { \"Matemáticas\":5.5 , \"Historia\":7, \"Física\":2 }\n",
    "notas_asignatura_alumno3 = { \"Matemáticas\":4 , \"Historia\":3, \"Física\":3 }\n",
    "\n",
    "alumno1 = Alumno(\"Alumno1\",\"Apellidos1\",\"1111A\")\n",
    "alumno2 = Alumno(\"Alumno2\",\"Apellidos2\",\"2222B\")\n",
    "alumno3 = Alumno(\"Alumno3\",\"Apellidos3\",\"3333C\")\n",
    "\n",
    "#alumno1.notas = notas_asignatura_alumno1\n",
    "#alumno2.notas = notas_asignatura_alumno2\n",
    "#alumno3.notas = notas_asignatura_alumno3\n",
    "\n",
    "print(\"======================================================\")\n",
    "lista_alumnos = [alumno1, alumno2, alumno3]\n",
    "#lista_notas = [notas_asignatura_alumno1,notas_asignatura_alumno2,notas_asignatura_alumno3]\n",
    "\n",
    "import random\n",
    "\n",
    "for i in range(3):\n",
    "    lista_alumnos[i].notas = { \"Matemáticas\": random.randint(1,10) , \"Historia\":random.randint(1,10), \"Física\":random.randint(1,10) }\n",
    "    \n",
    "for alumno in lista_alumnos:\n",
    "    print(alumno.notas)\n",
    "\n",
    "    \n",
    "\n",
    "#print(lista_alumnos[0].notas.get(\"Matemáticas\"))\n",
    "\n"
   ]
  },
  {
   "cell_type": "code",
   "execution_count": 9,
   "metadata": {},
   "outputs": [
    {
     "name": "stdout",
     "output_type": "stream",
     "text": [
      "======================================================\n",
      "{'Lengua': 7}\n",
      "======================================================\n",
      "{'Lengua': 4}\n",
      "{'Lengua': 4}\n",
      "======================================================\n",
      "{'Lengua': 3}\n",
      "{'Lengua': 3}\n",
      "{'Lengua': 3}\n",
      "======================================================\n",
      "{'Lengua': 3, 'Matemáticas': 5}\n",
      "======================================================\n",
      "{'Lengua': 3, 'Matemáticas': 6}\n",
      "{'Lengua': 3, 'Matemáticas': 6}\n",
      "======================================================\n",
      "{'Lengua': 3, 'Matemáticas': 7}\n",
      "{'Lengua': 3, 'Matemáticas': 7}\n",
      "{'Lengua': 3, 'Matemáticas': 7}\n",
      "======================================================\n",
      "{'Lengua': 3, 'Matemáticas': 7, 'Física': 6}\n",
      "======================================================\n",
      "{'Lengua': 3, 'Matemáticas': 7, 'Física': 8}\n",
      "{'Lengua': 3, 'Matemáticas': 7, 'Física': 8}\n",
      "======================================================\n",
      "{'Lengua': 3, 'Matemáticas': 7, 'Física': 5}\n",
      "{'Lengua': 3, 'Matemáticas': 7, 'Física': 5}\n",
      "{'Lengua': 3, 'Matemáticas': 7, 'Física': 5}\n"
     ]
    }
   ],
   "source": [
    "# Variables test\n",
    "asignaturas = [\"Lengua\", \"Matemáticas\", \"Física\"]\n",
    "notas1 = [7,5,6]\n",
    "notas2 = [4,6,8]\n",
    "notas3 = [3,7,5]\n",
    "\n",
    "# Variables\n",
    "alumno1 = Alumno(\"Mario\", \"Perez\", \"123A\")\n",
    "alumno2 = Alumno(\"Beatriz\", \"Lopez\", \"456B\")\n",
    "alumno3 = Alumno(\"Marta\", \"Garcia\", \"789C\")\n",
    "\n",
    "for index, asignatura in enumerate(asignaturas):\n",
    "    alumno1.notas[asignatura] = notas1[index]\n",
    "    print(\"======================================================\")\n",
    "    print(alumno1.notas)\n",
    "    alumno2.notas[asignatura] = notas2[index]\n",
    "    print(\"======================================================\")\n",
    "    print(alumno1.notas)\n",
    "    print(alumno2.notas)\n",
    "    alumno3.notas[asignatura] = notas3[index]\n",
    "    print(\"======================================================\")\n",
    "    print(alumno1.notas)\n",
    "    print(alumno2.notas)\n",
    "    print(alumno3.notas)\n"
   ]
  }
 ],
 "metadata": {
  "kernelspec": {
   "display_name": "Python 3",
   "language": "python",
   "name": "python3"
  },
  "language_info": {
   "codemirror_mode": {
    "name": "ipython",
    "version": 3
   },
   "file_extension": ".py",
   "mimetype": "text/x-python",
   "name": "python",
   "nbconvert_exporter": "python",
   "pygments_lexer": "ipython3",
   "version": "3.8.5"
  }
 },
 "nbformat": 4,
 "nbformat_minor": 4
}
