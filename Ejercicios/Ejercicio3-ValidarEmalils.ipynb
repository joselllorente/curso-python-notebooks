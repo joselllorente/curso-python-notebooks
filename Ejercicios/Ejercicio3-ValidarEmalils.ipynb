{
 "cells": [
  {
   "cell_type": "markdown",
   "metadata": {},
   "source": [
    "## Ejercicio3. Validar emails"
   ]
  },
  {
   "cell_type": "markdown",
   "metadata": {},
   "source": [
    "Pintar menu mientras que la opcion sea diferente de 4.\n",
    "\n",
    "1. Pintar cuadrado --> \n",
    "pregunta: \n",
    "indicar tamaño cuadrado: valor el usado para la base y la altura del cuadrado  \n",
    "\n",
    "O O O O  \n",
    "O     O  \n",
    "O     O  \n",
    "O O O O\n",
    "\n",
    "2. Validar email --> \n",
    "lista con 3 emails, validar cada uno de los emails, si un email no es valido vais a indicar que no es correcto y los motivos por los que no es correcto\n",
    "- no puede tener espacios en blanco\n",
    "- debe tener 1 @\n",
    "- despues de la @ tiene que haber al menos 1 punto\n",
    "- la distancia entre la @ y el punto tiene que ser al menos de 2 caracteres\n",
    "- despues del ultimo punto tiene que haber entre 2 y 5 caracteres\n",
    "\n",
    "3. Insertar alumnos --> \"Has seleccionado la opcion 3\"\n",
    "4. Salir --> \"Has seleccionado la opcion 4. Adios!\"\n",
    "\n",
    "Ótra opcion --> opcion incorrecta \n",
    "\n",
    "Seleccione una opcion:\n"
   ]
  },
  {
   "cell_type": "code",
   "execution_count": null,
   "metadata": {},
   "outputs": [
    {
     "name": "stdout",
     "output_type": "stream",
     "text": [
      "\n",
      "1. Pintar cuadrado\n",
      "2. Validar email\n",
      "3. Insertar Alumnos\n",
      "4. Salir\n"
     ]
    },
    {
     "name": "stdin",
     "output_type": "stream",
     "text": [
      "\n",
      "Seleccione una opcion 2\n"
     ]
    },
    {
     "name": "stdout",
     "output_type": "stream",
     "text": [
      "Validando email  asdasdas.es\n",
      "El email asdasdas.es no es correcto Debe de haber una @. \n",
      "Validando email  asdas asdsdsa@sda.e\n",
      "El email asdas asdsdsa@sda.e no es correcto No puede haber espacios en blanco. El subdominio del email debe estar entre 2 y 5. \n",
      "Validando email  asdasd@asdas@asdsad.es\n",
      "El email asdasd@asdas@asdsad.es no es correcto Debe de haber una @. \n",
      "Validando email  asdad@a.es\n",
      "El email asdad@a.es no es correcto La distancia entre la @ y el primer punto despues de la @ debe ser mayor de 2. \n",
      "Validando email  a sgsdfsd@a.esfa.sfasdf\n",
      "El email a sgsdfsd@a.esfa.sfasdf no es correcto No puede haber espacios en blanco. La distancia entre la @ y el primer punto despues de la @ debe ser mayor de 2. El subdominio del email debe estar entre 2 y 5. \n",
      "Validando email  asdas.dasd@as.dsfd.as.es\n",
      "El email asdas.dasd@as.dsfd.as.es es correcto.\n",
      "\n",
      "1. Pintar cuadrado\n",
      "2. Validar email\n",
      "3. Insertar Alumnos\n",
      "4. Salir\n"
     ]
    }
   ],
   "source": [
    "opcion = 0\n",
    "while (not opcion==4):\n",
    "    #print(\"1. Pintar cuadrado\\n2. Validar email\\n3. Insertar Alumnos\\n4. Salir\")\n",
    "    print(\"\\n1. Pintar cuadrado\")\n",
    "    print(\"2. Validar email\")\n",
    "    print(\"3. Insertar Alumnos\")\n",
    "    print(\"4. Salir\")\n",
    "    \n",
    "    opcion = int(input(\"\\nSeleccione una opcion\"))\n",
    "    \n",
    "    texto = \"Has seleccionado la opcion \"\n",
    "    if opcion==1:\n",
    "        caracter = \"*\"\n",
    "        altura = int(input(\"\\nIndica tamaño altura\"))\n",
    "        base = int(input(\"\\nIndica tamaño base\"))\n",
    "        linea_superior_inferior=caracter+\" \"\n",
    "        for linea in range(altura):\n",
    "            if(linea==0 or linea == altura-1):\n",
    "                print(base*(linea_superior_inferior))\n",
    "            else:\n",
    "                print(caracter+(' '*(len(base*(linea_superior_inferior))-3))+caracter) \n",
    "        \n",
    "    elif opcion==2:\n",
    "        lista_emails = [\"asdasdas.es\",\"asdas asdsdsa@sda.e\",\"asdasd@asdas@asdsad.es\", \"asdad@a.es\", \"a sgsdfsd@a.esfa.sfasdf\", \"asdas.dasd@as.dsfd.as.es \"]\n",
    "        for email in lista_emails:\n",
    "            email = email.strip()\n",
    "            print(\"Validando email \", email)\n",
    "            \n",
    "            errores = \"\"\n",
    "            if email.count(\" \")>0:\n",
    "                errores += \"No puede haber espacios en blanco. \"\n",
    "            if not email.count(\"@\")==1:\n",
    "                errores += \"Debe de haber una @. \"\n",
    "            if not email.split(\"@\")[-1].count(\".\")>=1:\n",
    "                errores += \"Despues de la @ tiene que haber un punto. \"\n",
    "            if not email[ email.find(\"@\")+1 :  ].find(\".\")>1:\n",
    "                errores += \"La distancia entre la @ y el primer punto despues de la @ debe ser mayor de 2. \"\n",
    "            if len(email.split(\".\")[-1])<2 or len(email.split(\".\")[-1])>5:\n",
    "                errores += \"El subdominio del email debe estar entre 2 y 5. \"\n",
    "            \n",
    "            if (errores==\"\"):\n",
    "                print(\"El email \"+ email +\" es correcto.\")\n",
    "            else:\n",
    "                print(\"El email \"+ email +\" no es correcto \" + errores)\n",
    "            \n",
    "            \n",
    "    elif opcion==3:\n",
    "        print(texto + \"3\")\n",
    "    elif opcion==4:\n",
    "        print(texto + \"4. Adios!!!\")\n",
    "    else:\n",
    "        print(\"Opcion incorrecta, vuelve a intentarlo\")\n",
    "    \n",
    "    \n",
    "    "
   ]
  }
 ],
 "metadata": {
  "kernelspec": {
   "display_name": "Python 3",
   "language": "python",
   "name": "python3"
  },
  "language_info": {
   "codemirror_mode": {
    "name": "ipython",
    "version": 3
   },
   "file_extension": ".py",
   "mimetype": "text/x-python",
   "name": "python",
   "nbconvert_exporter": "python",
   "pygments_lexer": "ipython3",
   "version": "3.8.5"
  }
 },
 "nbformat": 4,
 "nbformat_minor": 4
}
