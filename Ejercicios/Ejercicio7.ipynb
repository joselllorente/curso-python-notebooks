{
 "cells": [
  {
   "cell_type": "markdown",
   "metadata": {},
   "source": [
    "### Ejercicio 7. Composicion. Supermercado"
   ]
  },
  {
   "cell_type": "markdown",
   "metadata": {},
   "source": [
    "-Television  \n",
    "+id  \n",
    "+marca  \n",
    "+pulgadas  \n",
    "+precio\n",
    "\n",
    "-Ordenador  \n",
    "+id  \n",
    "+marca  \n",
    "+capacidad_disco_duro  \n",
    "+ram  \n",
    "+precio  \n",
    "\n",
    "-Monitor  \n",
    "+id  \n",
    "+marca  \n",
    "+pulgadas  \n",
    "+precio\n",
    "\n",
    "-Cliente  \n",
    "+nombre\n",
    "+tipo (VIP o no)\n",
    "+carrito_compra: listado[productos]\n",
    "+pagar()\n",
    "\n",
    "-Cajera  \n",
    "+numero_empleado  \n",
    "+nombre  \n",
    "+atender_cliente()  \n",
    "\n",
    "-Tienda  \n",
    "3 clientes\n",
    "2 cajeras  \n",
    "\n",
    "Cada cliente va llenar la cesta con uno o varios productos  \n",
    "\n",
    "cajeras van a ir atendiendo a los clientes  \n",
    "\n",
    "\n",
    "Si cliente es VIP, 15% en la compra"
   ]
  }
 ],
 "metadata": {
  "kernelspec": {
   "display_name": "Python 3",
   "language": "python",
   "name": "python3"
  },
  "language_info": {
   "codemirror_mode": {
    "name": "ipython",
    "version": 3
   },
   "file_extension": ".py",
   "mimetype": "text/x-python",
   "name": "python",
   "nbconvert_exporter": "python",
   "pygments_lexer": "ipython3",
   "version": "3.8.5"
  }
 },
 "nbformat": 4,
 "nbformat_minor": 4
}
